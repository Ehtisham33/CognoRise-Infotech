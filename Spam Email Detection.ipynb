{
 "cells": [
  {
   "cell_type": "markdown",
   "id": "60d7b065",
   "metadata": {},
   "source": [
    "# Project : SPAM EMAIL DETECTION"
   ]
  },
  {
   "cell_type": "markdown",
   "id": "ba4264ed",
   "metadata": {},
   "source": [
    "# Description: Create a model to classify emails as spam or not spam based on their content."
   ]
  },
  {
   "cell_type": "markdown",
   "id": "b3ee61ac",
   "metadata": {},
   "source": [
    "# Importing Necessary Libraries"
   ]
  },
  {
   "cell_type": "code",
   "execution_count": 60,
   "id": "1587ebbd",
   "metadata": {},
   "outputs": [],
   "source": [
    "import numpy as np\n",
    "import pandas as pd\n",
    "import seaborn as sns\n",
    "from sklearn.model_selection import train_test_split\n",
    "from sklearn.feature_extraction.text import TfidfVectorizer\n",
    "from sklearn.ensemble import RandomForestClassifier, AdaBoostClassifier\n",
    "from sklearn.tree import DecisionTreeClassifier\n",
    "from sklearn.linear_model import LogisticRegression\n",
    "from sklearn.neighbors import KNeighborsClassifier\n",
    "from sklearn.metrics import accuracy_score"
   ]
  },
  {
   "cell_type": "markdown",
   "id": "471ca16a",
   "metadata": {},
   "source": [
    "# Load Dataset"
   ]
  },
  {
   "cell_type": "code",
   "execution_count": 61,
   "id": "25548129",
   "metadata": {},
   "outputs": [],
   "source": [
    "df = pd.read_csv(\"D:/spam.csv\")"
   ]
  },
  {
   "cell_type": "code",
   "execution_count": 62,
   "id": "b823e8cf",
   "metadata": {},
   "outputs": [
    {
     "data": {
      "text/html": [
       "<div>\n",
       "<style scoped>\n",
       "    .dataframe tbody tr th:only-of-type {\n",
       "        vertical-align: middle;\n",
       "    }\n",
       "\n",
       "    .dataframe tbody tr th {\n",
       "        vertical-align: top;\n",
       "    }\n",
       "\n",
       "    .dataframe thead th {\n",
       "        text-align: right;\n",
       "    }\n",
       "</style>\n",
       "<table border=\"1\" class=\"dataframe\">\n",
       "  <thead>\n",
       "    <tr style=\"text-align: right;\">\n",
       "      <th></th>\n",
       "      <th>Category</th>\n",
       "      <th>Message</th>\n",
       "    </tr>\n",
       "  </thead>\n",
       "  <tbody>\n",
       "    <tr>\n",
       "      <th>0</th>\n",
       "      <td>ham</td>\n",
       "      <td>Go until jurong point, crazy.. Available only ...</td>\n",
       "    </tr>\n",
       "    <tr>\n",
       "      <th>1</th>\n",
       "      <td>ham</td>\n",
       "      <td>Ok lar... Joking wif u oni...</td>\n",
       "    </tr>\n",
       "    <tr>\n",
       "      <th>2</th>\n",
       "      <td>spam</td>\n",
       "      <td>Free entry in 2 a wkly comp to win FA Cup fina...</td>\n",
       "    </tr>\n",
       "    <tr>\n",
       "      <th>3</th>\n",
       "      <td>ham</td>\n",
       "      <td>U dun say so early hor... U c already then say...</td>\n",
       "    </tr>\n",
       "    <tr>\n",
       "      <th>4</th>\n",
       "      <td>ham</td>\n",
       "      <td>Nah I don't think he goes to usf, he lives aro...</td>\n",
       "    </tr>\n",
       "  </tbody>\n",
       "</table>\n",
       "</div>"
      ],
      "text/plain": [
       "  Category                                            Message\n",
       "0      ham  Go until jurong point, crazy.. Available only ...\n",
       "1      ham                      Ok lar... Joking wif u oni...\n",
       "2     spam  Free entry in 2 a wkly comp to win FA Cup fina...\n",
       "3      ham  U dun say so early hor... U c already then say...\n",
       "4      ham  Nah I don't think he goes to usf, he lives aro..."
      ]
     },
     "execution_count": 62,
     "metadata": {},
     "output_type": "execute_result"
    }
   ],
   "source": [
    "df.head()"
   ]
  },
  {
   "cell_type": "markdown",
   "id": "34faf000",
   "metadata": {},
   "source": [
    "# Getting Not Null Data"
   ]
  },
  {
   "cell_type": "code",
   "execution_count": 63,
   "id": "03f4af6a",
   "metadata": {},
   "outputs": [
    {
     "data": {
      "text/html": [
       "<div>\n",
       "<style scoped>\n",
       "    .dataframe tbody tr th:only-of-type {\n",
       "        vertical-align: middle;\n",
       "    }\n",
       "\n",
       "    .dataframe tbody tr th {\n",
       "        vertical-align: top;\n",
       "    }\n",
       "\n",
       "    .dataframe thead th {\n",
       "        text-align: right;\n",
       "    }\n",
       "</style>\n",
       "<table border=\"1\" class=\"dataframe\">\n",
       "  <thead>\n",
       "    <tr style=\"text-align: right;\">\n",
       "      <th></th>\n",
       "      <th>Category</th>\n",
       "      <th>Message</th>\n",
       "    </tr>\n",
       "  </thead>\n",
       "  <tbody>\n",
       "    <tr>\n",
       "      <th>0</th>\n",
       "      <td>ham</td>\n",
       "      <td>Go until jurong point, crazy.. Available only ...</td>\n",
       "    </tr>\n",
       "    <tr>\n",
       "      <th>1</th>\n",
       "      <td>ham</td>\n",
       "      <td>Ok lar... Joking wif u oni...</td>\n",
       "    </tr>\n",
       "    <tr>\n",
       "      <th>2</th>\n",
       "      <td>spam</td>\n",
       "      <td>Free entry in 2 a wkly comp to win FA Cup fina...</td>\n",
       "    </tr>\n",
       "    <tr>\n",
       "      <th>3</th>\n",
       "      <td>ham</td>\n",
       "      <td>U dun say so early hor... U c already then say...</td>\n",
       "    </tr>\n",
       "    <tr>\n",
       "      <th>4</th>\n",
       "      <td>ham</td>\n",
       "      <td>Nah I don't think he goes to usf, he lives aro...</td>\n",
       "    </tr>\n",
       "  </tbody>\n",
       "</table>\n",
       "</div>"
      ],
      "text/plain": [
       "  Category                                            Message\n",
       "0      ham  Go until jurong point, crazy.. Available only ...\n",
       "1      ham                      Ok lar... Joking wif u oni...\n",
       "2     spam  Free entry in 2 a wkly comp to win FA Cup fina...\n",
       "3      ham  U dun say so early hor... U c already then say...\n",
       "4      ham  Nah I don't think he goes to usf, he lives aro..."
      ]
     },
     "execution_count": 63,
     "metadata": {},
     "output_type": "execute_result"
    }
   ],
   "source": [
    "df= df.where(pd.notnull(df),'')\n",
    "df.head()"
   ]
  },
  {
   "cell_type": "markdown",
   "id": "fc631b5c",
   "metadata": {},
   "source": [
    "# Count Plot of Category"
   ]
  },
  {
   "cell_type": "code",
   "execution_count": 64,
   "id": "17c0ff71",
   "metadata": {},
   "outputs": [
    {
     "data": {
      "text/plain": [
       "<Axes: xlabel='Category', ylabel='count'>"
      ]
     },
     "execution_count": 64,
     "metadata": {},
     "output_type": "execute_result"
    },
    {
     "data": {
      "image/png": "[encoded data removed]",
      "text/plain": [
       "<Figure size 640x480 with 1 Axes>"
      ]
     },
     "metadata": {},
     "output_type": "display_data"
    }
   ],
   "source": [
    "sns.countplot(data=df, x='Category')"
   ]
  },
  {
   "cell_type": "markdown",
   "id": "e955a874",
   "metadata": {},
   "source": [
    "# Replacing Values"
   ]
  },
  {
   "cell_type": "code",
   "execution_count": 65,
   "id": "645da489",
   "metadata": {},
   "outputs": [],
   "source": [
    "df.loc[df['Category']=='spam','Category',]=0\n",
    "df.loc[df['Category']=='ham','Category',]=1"
   ]
  },
  {
   "cell_type": "code",
   "execution_count": 66,
   "id": "fe38f5b8",
   "metadata": {},
   "outputs": [
    {
     "data": {
      "text/html": [
       "<div>\n",
       "<style scoped>\n",
       "    .dataframe tbody tr th:only-of-type {\n",
       "        vertical-align: middle;\n",
       "    }\n",
       "\n",
       "    .dataframe tbody tr th {\n",
       "        vertical-align: top;\n",
       "    }\n",
       "\n",
       "    .dataframe thead th {\n",
       "        text-align: right;\n",
       "    }\n",
       "</style>\n",
       "<table border=\"1\" class=\"dataframe\">\n",
       "  <thead>\n",
       "    <tr style=\"text-align: right;\">\n",
       "      <th></th>\n",
       "      <th>Category</th>\n",
       "      <th>Message</th>\n",
       "    </tr>\n",
       "  </thead>\n",
       "  <tbody>\n",
       "    <tr>\n",
       "      <th>0</th>\n",
       "      <td>1</td>\n",
       "      <td>Go until jurong point, crazy.. Available only ...</td>\n",
       "    </tr>\n",
       "    <tr>\n",
       "      <th>1</th>\n",
       "      <td>1</td>\n",
       "      <td>Ok lar... Joking wif u oni...</td>\n",
       "    </tr>\n",
       "    <tr>\n",
       "      <th>2</th>\n",
       "      <td>0</td>\n",
       "      <td>Free entry in 2 a wkly comp to win FA Cup fina...</td>\n",
       "    </tr>\n",
       "    <tr>\n",
       "      <th>3</th>\n",
       "      <td>1</td>\n",
       "      <td>U dun say so early hor... U c already then say...</td>\n",
       "    </tr>\n",
       "    <tr>\n",
       "      <th>4</th>\n",
       "      <td>1</td>\n",
       "      <td>Nah I don't think he goes to usf, he lives aro...</td>\n",
       "    </tr>\n",
       "  </tbody>\n",
       "</table>\n",
       "</div>"
      ],
      "text/plain": [
       "  Category                                            Message\n",
       "0        1  Go until jurong point, crazy.. Available only ...\n",
       "1        1                      Ok lar... Joking wif u oni...\n",
       "2        0  Free entry in 2 a wkly comp to win FA Cup fina...\n",
       "3        1  U dun say so early hor... U c already then say...\n",
       "4        1  Nah I don't think he goes to usf, he lives aro..."
      ]
     },
     "execution_count": 66,
     "metadata": {},
     "output_type": "execute_result"
    }
   ],
   "source": [
    "df.head()"
   ]
  },
  {
   "cell_type": "markdown",
   "id": "a5f9cdbb",
   "metadata": {},
   "source": [
    "# Feature Extract"
   ]
  },
  {
   "cell_type": "code",
   "execution_count": 67,
   "id": "7c3454ae",
   "metadata": {},
   "outputs": [],
   "source": [
    "X = df['Message']\n",
    "y= df['Category']"
   ]
  },
  {
   "cell_type": "code",
   "execution_count": 68,
   "id": "59d71c70",
   "metadata": {},
   "outputs": [
    {
     "data": {
      "text/plain": [
       "0       Go until jurong point, crazy.. Available only ...\n",
       "1                           Ok lar... Joking wif u oni...\n",
       "2       Free entry in 2 a wkly comp to win FA Cup fina...\n",
       "3       U dun say so early hor... U c already then say...\n",
       "4       Nah I don't think he goes to usf, he lives aro...\n",
       "                              ...                        \n",
       "5567    This is the 2nd time we have tried 2 contact u...\n",
       "5568                 Will ü b going to esplanade fr home?\n",
       "5569    Pity, * was in mood for that. So...any other s...\n",
       "5570    The guy did some bitching but I acted like i'd...\n",
       "5571                           Rofl. Its true to its name\n",
       "Name: Message, Length: 5572, dtype: object"
      ]
     },
     "execution_count": 68,
     "metadata": {},
     "output_type": "execute_result"
    }
   ],
   "source": [
    "X"
   ]
  },
  {
   "cell_type": "markdown",
   "id": "339b91a3",
   "metadata": {},
   "source": [
    "# Data Split"
   ]
  },
  {
   "cell_type": "code",
   "execution_count": 69,
   "id": "06cf5517",
   "metadata": {},
   "outputs": [],
   "source": [
    "X_train, X_test, y_train, y_test = train_test_split(X,y, test_size=0.2 , random_state=9)"
   ]
  },
  {
   "cell_type": "markdown",
   "id": "69fc48f2",
   "metadata": {},
   "source": [
    "# Convert Textual Data into Numerical Vector"
   ]
  },
  {
   "cell_type": "code",
   "execution_count": 70,
   "id": "2bead4f2",
   "metadata": {},
   "outputs": [],
   "source": [
    "feature_extraction = TfidfVectorizer(min_df = 1, stop_words='english', lowercase= True)"
   ]
  },
  {
   "cell_type": "code",
   "execution_count": 71,
   "id": "cd84d0ad",
   "metadata": {},
   "outputs": [],
   "source": [
    "X_train_feature = feature_extraction.fit_transform(X_train)\n",
    "X_test_feature = feature_extraction.transform(X_test)"
   ]
  },
  {
   "cell_type": "code",
   "execution_count": 72,
   "id": "c7232e99",
   "metadata": {
    "scrolled": true
   },
   "outputs": [
    {
     "name": "stdout",
     "output_type": "stream",
     "text": [
      "  (0, 5994)\t0.48487537059673974\n",
      "  (0, 6016)\t0.48487537059673974\n",
      "  (0, 7183)\t0.38811046427357665\n",
      "  (0, 4246)\t0.46853319461766263\n",
      "  (0, 4751)\t0.3995480735031329\n",
      "  (1, 3704)\t0.40679606794582573\n",
      "  (1, 5281)\t0.6117395117581471\n",
      "  (1, 3985)\t0.29337092325522474\n",
      "  (1, 1425)\t0.6117395117581471\n",
      "  (2, 4321)\t0.7071067811865476\n",
      "  (2, 2839)\t0.7071067811865476\n",
      "  (3, 6981)\t0.2152157879013364\n",
      "  (3, 3510)\t0.2456544200128925\n",
      "  (3, 3551)\t0.2680188259240245\n",
      "  (3, 8)\t0.2922841293900595\n",
      "  (3, 6999)\t0.27830306706658076\n",
      "  (3, 6726)\t0.1771628750916276\n",
      "  (3, 4128)\t0.262409511764221\n",
      "  (3, 2113)\t0.16610957105957078\n",
      "  (3, 4051)\t0.2680188259240245\n",
      "  (3, 3422)\t0.24739685489219274\n",
      "  (3, 7404)\t0.1948799373403916\n",
      "  (3, 6978)\t0.2922841293900595\n",
      "  (3, 1845)\t0.20742116622566584\n",
      "  (3, 2691)\t0.2745670671412955\n",
      "  :\t:\n",
      "  (4454, 2443)\t0.17161518133998263\n",
      "  (4454, 1792)\t0.18697826514183577\n",
      "  (4454, 2748)\t0.21257074773064358\n",
      "  (4454, 4080)\t0.7728431280804475\n",
      "  (4454, 2749)\t0.223895601686552\n",
      "  (4454, 2250)\t0.223895601686552\n",
      "  (4455, 6726)\t0.20345065643996996\n",
      "  (4455, 3833)\t0.18341579188139398\n",
      "  (4455, 4288)\t0.23533969908632724\n",
      "  (4455, 5094)\t0.30445204982027557\n",
      "  (4455, 3098)\t0.18681902332864916\n",
      "  (4455, 6735)\t0.24805935441739504\n",
      "  (4455, 4775)\t0.29070539959365477\n",
      "  (4455, 6780)\t0.30445204982027557\n",
      "  (4455, 4633)\t0.22433571591381757\n",
      "  (4455, 7162)\t0.29070539959365477\n",
      "  (4455, 7453)\t0.29070539959365477\n",
      "  (4455, 5651)\t0.360844745223156\n",
      "  (4455, 2336)\t0.39204652784738997\n",
      "  (4456, 4360)\t0.3659669201671052\n",
      "  (4456, 6436)\t0.32637060297827974\n",
      "  (4456, 1980)\t0.4222951138240207\n",
      "  (4456, 7440)\t0.30819507422443093\n",
      "  (4456, 6788)\t0.4588381913833921\n",
      "  (4456, 7147)\t0.5250719855859484\n"
     ]
    }
   ],
   "source": [
    "print(X_train_feature)"
   ]
  },
  {
   "cell_type": "markdown",
   "id": "037cb9d2",
   "metadata": {},
   "source": [
    "# Model Selection"
   ]
  },
  {
   "cell_type": "code",
   "execution_count": 73,
   "id": "c613f5c0",
   "metadata": {},
   "outputs": [],
   "source": [
    "rc = RandomForestClassifier()\n",
    "abc = AdaBoostClassifier()\n",
    "dt = DecisionTreeClassifier()\n",
    "lr = LogisticRegression()\n",
    "kc = KNeighborsClassifier(n_neighbors=1)"
   ]
  },
  {
   "cell_type": "code",
   "execution_count": 74,
   "id": "5498fff7",
   "metadata": {},
   "outputs": [],
   "source": [
    "models= [rc, abc,dt,lr,kc]"
   ]
  },
  {
   "cell_type": "markdown",
   "id": "9fc602c1",
   "metadata": {},
   "source": [
    "# Change Datatype of Target Data"
   ]
  },
  {
   "cell_type": "code",
   "execution_count": 75,
   "id": "2c38caec",
   "metadata": {},
   "outputs": [],
   "source": [
    "y_train = y_train.astype('int')\n",
    "y_test = y_test.astype('int')"
   ]
  },
  {
   "cell_type": "markdown",
   "id": "20929e3f",
   "metadata": {},
   "source": [
    "# Model Evaluation"
   ]
  },
  {
   "cell_type": "code",
   "execution_count": 76,
   "id": "1c6dd8cf",
   "metadata": {},
   "outputs": [
    {
     "name": "stdout",
     "output_type": "stream",
     "text": [
      "The Model is :RandomForestClassifier()\n",
      "The Accuracy score of RandomForestClassifier() --> 0.979372197309417\n",
      "The Model is :AdaBoostClassifier()\n"
     ]
    },
    {
     "name": "stderr",
     "output_type": "stream",
     "text": [
      "C:\\Users\\Ehtisham\\AppData\\Roaming\\Python\\Python311\\site-packages\\sklearn\\ensemble\\_weight_boosting.py:527: FutureWarning: The SAMME.R algorithm (the default) is deprecated and will be removed in 1.6. Use the SAMME algorithm to circumvent this warning.\n",
      "  warnings.warn(\n"
     ]
    },
    {
     "name": "stdout",
     "output_type": "stream",
     "text": [
      "The Accuracy score of AdaBoostClassifier() --> 0.9668161434977578\n",
      "The Model is :DecisionTreeClassifier()\n",
      "The Accuracy score of DecisionTreeClassifier() --> 0.9650224215246637\n",
      "The Model is :LogisticRegression()\n",
      "The Accuracy score of LogisticRegression() --> 0.9650224215246637\n",
      "The Model is :KNeighborsClassifier(n_neighbors=1)\n",
      "The Accuracy score of KNeighborsClassifier(n_neighbors=1) --> 0.9506726457399103\n"
     ]
    }
   ],
   "source": [
    "for model in models:\n",
    "    print(f'The Model is :{model}')\n",
    "    model.fit(X_train_feature, y_train)\n",
    "    print(f'The Accuracy score of {model} --> {accuracy_score(y_test, model.predict(X_test_feature))}')"
   ]
  },
  {
   "cell_type": "markdown",
   "id": "137c60fa",
   "metadata": {},
   "source": [
    "# New Input Data to Predict"
   ]
  },
  {
   "cell_type": "code",
   "execution_count": 77,
   "id": "9c5b40d8",
   "metadata": {},
   "outputs": [],
   "source": [
    "spam_mail=['Dear Winner, You have been selected for a grand prize of $1,000,000! To claim your prize, please provide your personal details, including your bank account number, so we can transfer the money to you. Don\\'t miss this once-in-a-lifetime opportunity']\n",
    "ham_mail=['This is a friendly reminder for our upcoming meeting to discuss the project updates and next steps. Here are the details of the meeting.']"
   ]
  },
  {
   "cell_type": "markdown",
   "id": "eccec09b",
   "metadata": {},
   "source": [
    "# Spam Mail"
   ]
  },
  {
   "cell_type": "code",
   "execution_count": 78,
   "id": "f836fd20",
   "metadata": {},
   "outputs": [],
   "source": [
    "input_data_feature = feature_extraction.transform(spam_mail)"
   ]
  },
  {
   "cell_type": "code",
   "execution_count": 79,
   "id": "c5ce115a",
   "metadata": {},
   "outputs": [
    {
     "name": "stdout",
     "output_type": "stream",
     "text": [
      "Model is RandomForestClassifier() ---> Prediction [0]\n",
      "Model is AdaBoostClassifier() ---> Prediction [0]\n",
      "Model is DecisionTreeClassifier() ---> Prediction [0]\n",
      "Model is LogisticRegression() ---> Prediction [1]\n",
      "Model is KNeighborsClassifier(n_neighbors=1) ---> Prediction [1]\n"
     ]
    }
   ],
   "source": [
    "for model in models:\n",
    "    print(f'Model is {model} ---> Prediction {model.predict(input_data_feature)}')"
   ]
  },
  {
   "cell_type": "markdown",
   "id": "1d6fb17e",
   "metadata": {},
   "source": [
    "# Ham Mail"
   ]
  },
  {
   "cell_type": "code",
   "execution_count": 80,
   "id": "b150edc4",
   "metadata": {},
   "outputs": [],
   "source": [
    "input_data_feature = feature_extraction.transform(ham_mail)"
   ]
  },
  {
   "cell_type": "code",
   "execution_count": 81,
   "id": "027353f7",
   "metadata": {},
   "outputs": [
    {
     "name": "stdout",
     "output_type": "stream",
     "text": [
      "Model is RandomForestClassifier() ---> Prediction [1]\n",
      "Model is AdaBoostClassifier() ---> Prediction [1]\n",
      "Model is DecisionTreeClassifier() ---> Prediction [1]\n",
      "Model is LogisticRegression() ---> Prediction [1]\n",
      "Model is KNeighborsClassifier(n_neighbors=1) ---> Prediction [1]\n"
     ]
    }
   ],
   "source": [
    "for model in models:\n",
    "    print(f'Model is {model} ---> Prediction {model.predict(input_data_feature)}')"
   ]
  },
  {
   "cell_type": "markdown",
   "id": "5aae25a2",
   "metadata": {},
   "source": [
    "# Selecting Best Model Prediction"
   ]
  },
  {
   "cell_type": "code",
   "execution_count": 82,
   "id": "db423c2a",
   "metadata": {},
   "outputs": [],
   "source": [
    "#Model is RandomForestClassifier()\n",
    "#Model is AdaBoostClassifier() \n",
    "#Model is DecisionTreeClassifier() "
   ]
  },
  {
   "cell_type": "code",
   "execution_count": null,
   "id": "d0721f95",
   "metadata": {},
   "outputs": [],
   "source": []
  }
 ],
 "metadata": {
  "kernelspec": {
   "display_name": "Python 3 (ipykernel)",
   "language": "python",
   "name": "python3"
  },
  "language_info": {
   "codemirror_mode": {
    "name": "ipython",
    "version": 3
   },
   "file_extension": ".py",
   "mimetype": "text/x-python",
   "name": "python",
   "nbconvert_exporter": "python",
   "pygments_lexer": "ipython3",
   "version": "3.11.5"
  }
 },
 "nbformat": 4,
 "nbformat_minor": 5
}
