{
 "cells": [
  {
   "cell_type": "markdown",
   "id": "a21757ae",
   "metadata": {},
   "source": [
    "# Project : SENTIMENT ANALYSIS ON MOVIE REVIEWS"
   ]
  },
  {
   "cell_type": "markdown",
   "id": "7ac6b9ca",
   "metadata": {},
   "source": [
    "# Description: Perform sentiment analysis on movie reviews to determine if the sentiment is positive or negative."
   ]
  },
  {
   "cell_type": "markdown",
   "id": "ec5c3da0",
   "metadata": {},
   "source": [
    "# Importing Necessary Libraries"
   ]
  },
  {
   "cell_type": "code",
   "execution_count": 3,
   "id": "81bbb427",
   "metadata": {},
   "outputs": [],
   "source": [
    "import pandas as pd\n",
    "import matplotlib.pyplot as plt\n",
    "import seaborn as sns\n",
    "from sklearn.model_selection import train_test_split\n",
    "from sklearn.feature_extraction.text import TfidfVectorizer\n",
    "from sklearn.tree import DecisionTreeClassifier\n",
    "from sklearn.naive_bayes import MultinomialNB\n",
    "from sklearn.linear_model import LogisticRegression\n",
    "from sklearn.neighbors import KNeighborsClassifier\n",
    "from sklearn.metrics import accuracy_score\n",
    "from sklearn.ensemble import RandomForestClassifier\n",
    "from xgboost import XGBClassifier"
   ]
  },
  {
   "cell_type": "markdown",
   "id": "ca0bf4cd",
   "metadata": {},
   "source": [
    "# Load Dataset"
   ]
  },
  {
   "cell_type": "code",
   "execution_count": 4,
   "id": "54fb0448",
   "metadata": {},
   "outputs": [],
   "source": [
    "df = pd.read_csv(\"D:/IMDB Dataset.csv\")"
   ]
  },
  {
   "cell_type": "code",
   "execution_count": 5,
   "id": "30a9baad",
   "metadata": {},
   "outputs": [
    {
     "data": {
      "text/html": [
       "<div>\n",
       "<style scoped>\n",
       "    .dataframe tbody tr th:only-of-type {\n",
       "        vertical-align: middle;\n",
       "    }\n",
       "\n",
       "    .dataframe tbody tr th {\n",
       "        vertical-align: top;\n",
       "    }\n",
       "\n",
       "    .dataframe thead th {\n",
       "        text-align: right;\n",
       "    }\n",
       "</style>\n",
       "<table border=\"1\" class=\"dataframe\">\n",
       "  <thead>\n",
       "    <tr style=\"text-align: right;\">\n",
       "      <th></th>\n",
       "      <th>review</th>\n",
       "      <th>sentiment</th>\n",
       "    </tr>\n",
       "  </thead>\n",
       "  <tbody>\n",
       "    <tr>\n",
       "      <th>0</th>\n",
       "      <td>One of the other reviewers has mentioned that ...</td>\n",
       "      <td>positive</td>\n",
       "    </tr>\n",
       "    <tr>\n",
       "      <th>1</th>\n",
       "      <td>A wonderful little production. &lt;br /&gt;&lt;br /&gt;The...</td>\n",
       "      <td>positive</td>\n",
       "    </tr>\n",
       "    <tr>\n",
       "      <th>2</th>\n",
       "      <td>I thought this was a wonderful way to spend ti...</td>\n",
       "      <td>positive</td>\n",
       "    </tr>\n",
       "    <tr>\n",
       "      <th>3</th>\n",
       "      <td>Basically there's a family where a little boy ...</td>\n",
       "      <td>negative</td>\n",
       "    </tr>\n",
       "    <tr>\n",
       "      <th>4</th>\n",
       "      <td>Petter Mattei's \"Love in the Time of Money\" is...</td>\n",
       "      <td>positive</td>\n",
       "    </tr>\n",
       "  </tbody>\n",
       "</table>\n",
       "</div>"
      ],
      "text/plain": [
       "                                              review sentiment\n",
       "0  One of the other reviewers has mentioned that ...  positive\n",
       "1  A wonderful little production. <br /><br />The...  positive\n",
       "2  I thought this was a wonderful way to spend ti...  positive\n",
       "3  Basically there's a family where a little boy ...  negative\n",
       "4  Petter Mattei's \"Love in the Time of Money\" is...  positive"
      ]
     },
     "execution_count": 5,
     "metadata": {},
     "output_type": "execute_result"
    }
   ],
   "source": [
    "df.head()"
   ]
  },
  {
   "cell_type": "markdown",
   "id": "748efcea",
   "metadata": {},
   "source": [
    "# Count Plot of Sentiments"
   ]
  },
  {
   "cell_type": "code",
   "execution_count": 6,
   "id": "f71f0f26",
   "metadata": {},
   "outputs": [
    {
     "data": {
      "text/plain": [
       "<Axes: xlabel='sentiment', ylabel='count'>"
      ]
     },
     "execution_count": 6,
     "metadata": {},
     "output_type": "execute_result"
    },
    {
     "data": {
      "image/png": "[encoded data removed]",
      "text/plain": [
       "<Figure size 640x480 with 1 Axes>"
      ]
     },
     "metadata": {},
     "output_type": "display_data"
    }
   ],
   "source": [
    "sns.countplot(data=df, x='sentiment')"
   ]
  },
  {
   "cell_type": "markdown",
   "id": "fa1a894a",
   "metadata": {},
   "source": [
    "# Getting Data without Null"
   ]
  },
  {
   "cell_type": "code",
   "execution_count": 7,
   "id": "59882535",
   "metadata": {},
   "outputs": [],
   "source": [
    "df = df.where(pd.notnull(df),'')"
   ]
  },
  {
   "cell_type": "code",
   "execution_count": 8,
   "id": "93c402d4",
   "metadata": {},
   "outputs": [
    {
     "data": {
      "text/html": [
       "<div>\n",
       "<style scoped>\n",
       "    .dataframe tbody tr th:only-of-type {\n",
       "        vertical-align: middle;\n",
       "    }\n",
       "\n",
       "    .dataframe tbody tr th {\n",
       "        vertical-align: top;\n",
       "    }\n",
       "\n",
       "    .dataframe thead th {\n",
       "        text-align: right;\n",
       "    }\n",
       "</style>\n",
       "<table border=\"1\" class=\"dataframe\">\n",
       "  <thead>\n",
       "    <tr style=\"text-align: right;\">\n",
       "      <th></th>\n",
       "      <th>review</th>\n",
       "      <th>sentiment</th>\n",
       "    </tr>\n",
       "  </thead>\n",
       "  <tbody>\n",
       "    <tr>\n",
       "      <th>0</th>\n",
       "      <td>One of the other reviewers has mentioned that ...</td>\n",
       "      <td>positive</td>\n",
       "    </tr>\n",
       "    <tr>\n",
       "      <th>1</th>\n",
       "      <td>A wonderful little production. &lt;br /&gt;&lt;br /&gt;The...</td>\n",
       "      <td>positive</td>\n",
       "    </tr>\n",
       "    <tr>\n",
       "      <th>2</th>\n",
       "      <td>I thought this was a wonderful way to spend ti...</td>\n",
       "      <td>positive</td>\n",
       "    </tr>\n",
       "    <tr>\n",
       "      <th>3</th>\n",
       "      <td>Basically there's a family where a little boy ...</td>\n",
       "      <td>negative</td>\n",
       "    </tr>\n",
       "    <tr>\n",
       "      <th>4</th>\n",
       "      <td>Petter Mattei's \"Love in the Time of Money\" is...</td>\n",
       "      <td>positive</td>\n",
       "    </tr>\n",
       "  </tbody>\n",
       "</table>\n",
       "</div>"
      ],
      "text/plain": [
       "                                              review sentiment\n",
       "0  One of the other reviewers has mentioned that ...  positive\n",
       "1  A wonderful little production. <br /><br />The...  positive\n",
       "2  I thought this was a wonderful way to spend ti...  positive\n",
       "3  Basically there's a family where a little boy ...  negative\n",
       "4  Petter Mattei's \"Love in the Time of Money\" is...  positive"
      ]
     },
     "execution_count": 8,
     "metadata": {},
     "output_type": "execute_result"
    }
   ],
   "source": [
    "df.head()"
   ]
  },
  {
   "cell_type": "markdown",
   "id": "73466471",
   "metadata": {},
   "source": [
    "# Allocating Specific Values"
   ]
  },
  {
   "cell_type": "code",
   "execution_count": 8,
   "id": "116940e1",
   "metadata": {},
   "outputs": [],
   "source": [
    "df.loc[df['sentiment']=='positive', 'sentiment',]=1"
   ]
  },
  {
   "cell_type": "code",
   "execution_count": 9,
   "id": "1c9abcb7",
   "metadata": {},
   "outputs": [
    {
     "data": {
      "text/html": [
       "<div>\n",
       "<style scoped>\n",
       "    .dataframe tbody tr th:only-of-type {\n",
       "        vertical-align: middle;\n",
       "    }\n",
       "\n",
       "    .dataframe tbody tr th {\n",
       "        vertical-align: top;\n",
       "    }\n",
       "\n",
       "    .dataframe thead th {\n",
       "        text-align: right;\n",
       "    }\n",
       "</style>\n",
       "<table border=\"1\" class=\"dataframe\">\n",
       "  <thead>\n",
       "    <tr style=\"text-align: right;\">\n",
       "      <th></th>\n",
       "      <th>review</th>\n",
       "      <th>sentiment</th>\n",
       "    </tr>\n",
       "  </thead>\n",
       "  <tbody>\n",
       "    <tr>\n",
       "      <th>0</th>\n",
       "      <td>One of the other reviewers has mentioned that ...</td>\n",
       "      <td>1</td>\n",
       "    </tr>\n",
       "    <tr>\n",
       "      <th>1</th>\n",
       "      <td>A wonderful little production. &lt;br /&gt;&lt;br /&gt;The...</td>\n",
       "      <td>1</td>\n",
       "    </tr>\n",
       "    <tr>\n",
       "      <th>2</th>\n",
       "      <td>I thought this was a wonderful way to spend ti...</td>\n",
       "      <td>1</td>\n",
       "    </tr>\n",
       "    <tr>\n",
       "      <th>3</th>\n",
       "      <td>Basically there's a family where a little boy ...</td>\n",
       "      <td>negative</td>\n",
       "    </tr>\n",
       "    <tr>\n",
       "      <th>4</th>\n",
       "      <td>Petter Mattei's \"Love in the Time of Money\" is...</td>\n",
       "      <td>1</td>\n",
       "    </tr>\n",
       "  </tbody>\n",
       "</table>\n",
       "</div>"
      ],
      "text/plain": [
       "                                              review sentiment\n",
       "0  One of the other reviewers has mentioned that ...         1\n",
       "1  A wonderful little production. <br /><br />The...         1\n",
       "2  I thought this was a wonderful way to spend ti...         1\n",
       "3  Basically there's a family where a little boy ...  negative\n",
       "4  Petter Mattei's \"Love in the Time of Money\" is...         1"
      ]
     },
     "execution_count": 9,
     "metadata": {},
     "output_type": "execute_result"
    }
   ],
   "source": [
    "df.head()"
   ]
  },
  {
   "cell_type": "code",
   "execution_count": 10,
   "id": "a4472978",
   "metadata": {},
   "outputs": [],
   "source": [
    "df.loc[df['sentiment']=='negative', 'sentiment',]=0"
   ]
  },
  {
   "cell_type": "code",
   "execution_count": 11,
   "id": "3a52ec0c",
   "metadata": {},
   "outputs": [
    {
     "data": {
      "text/html": [
       "<div>\n",
       "<style scoped>\n",
       "    .dataframe tbody tr th:only-of-type {\n",
       "        vertical-align: middle;\n",
       "    }\n",
       "\n",
       "    .dataframe tbody tr th {\n",
       "        vertical-align: top;\n",
       "    }\n",
       "\n",
       "    .dataframe thead th {\n",
       "        text-align: right;\n",
       "    }\n",
       "</style>\n",
       "<table border=\"1\" class=\"dataframe\">\n",
       "  <thead>\n",
       "    <tr style=\"text-align: right;\">\n",
       "      <th></th>\n",
       "      <th>review</th>\n",
       "      <th>sentiment</th>\n",
       "    </tr>\n",
       "  </thead>\n",
       "  <tbody>\n",
       "    <tr>\n",
       "      <th>0</th>\n",
       "      <td>One of the other reviewers has mentioned that ...</td>\n",
       "      <td>1</td>\n",
       "    </tr>\n",
       "    <tr>\n",
       "      <th>1</th>\n",
       "      <td>A wonderful little production. &lt;br /&gt;&lt;br /&gt;The...</td>\n",
       "      <td>1</td>\n",
       "    </tr>\n",
       "    <tr>\n",
       "      <th>2</th>\n",
       "      <td>I thought this was a wonderful way to spend ti...</td>\n",
       "      <td>1</td>\n",
       "    </tr>\n",
       "    <tr>\n",
       "      <th>3</th>\n",
       "      <td>Basically there's a family where a little boy ...</td>\n",
       "      <td>0</td>\n",
       "    </tr>\n",
       "    <tr>\n",
       "      <th>4</th>\n",
       "      <td>Petter Mattei's \"Love in the Time of Money\" is...</td>\n",
       "      <td>1</td>\n",
       "    </tr>\n",
       "  </tbody>\n",
       "</table>\n",
       "</div>"
      ],
      "text/plain": [
       "                                              review sentiment\n",
       "0  One of the other reviewers has mentioned that ...         1\n",
       "1  A wonderful little production. <br /><br />The...         1\n",
       "2  I thought this was a wonderful way to spend ti...         1\n",
       "3  Basically there's a family where a little boy ...         0\n",
       "4  Petter Mattei's \"Love in the Time of Money\" is...         1"
      ]
     },
     "execution_count": 11,
     "metadata": {},
     "output_type": "execute_result"
    }
   ],
   "source": [
    "df.head()"
   ]
  },
  {
   "cell_type": "markdown",
   "id": "dcab9836",
   "metadata": {},
   "source": [
    "# Checking Datatypes"
   ]
  },
  {
   "cell_type": "code",
   "execution_count": 12,
   "id": "db2253f7",
   "metadata": {},
   "outputs": [
    {
     "name": "stdout",
     "output_type": "stream",
     "text": [
      "<class 'pandas.core.frame.DataFrame'>\n",
      "RangeIndex: 50000 entries, 0 to 49999\n",
      "Data columns (total 2 columns):\n",
      " #   Column     Non-Null Count  Dtype \n",
      "---  ------     --------------  ----- \n",
      " 0   review     50000 non-null  object\n",
      " 1   sentiment  50000 non-null  object\n",
      "dtypes: object(2)\n",
      "memory usage: 781.4+ KB\n"
     ]
    }
   ],
   "source": [
    "df.info()"
   ]
  },
  {
   "cell_type": "markdown",
   "id": "844b9c49",
   "metadata": {},
   "source": [
    "# Feature Extraction X & Y"
   ]
  },
  {
   "cell_type": "code",
   "execution_count": 13,
   "id": "f72a3b84",
   "metadata": {},
   "outputs": [],
   "source": [
    "X = df['review']\n",
    "y= df['sentiment']"
   ]
  },
  {
   "cell_type": "code",
   "execution_count": 14,
   "id": "93aee36f",
   "metadata": {},
   "outputs": [
    {
     "data": {
      "text/plain": [
       "0        One of the other reviewers has mentioned that ...\n",
       "1        A wonderful little production. <br /><br />The...\n",
       "2        I thought this was a wonderful way to spend ti...\n",
       "3        Basically there's a family where a little boy ...\n",
       "4        Petter Mattei's \"Love in the Time of Money\" is...\n",
       "                               ...                        \n",
       "49995    I thought this movie did a down right good job...\n",
       "49996    Bad plot, bad dialogue, bad acting, idiotic di...\n",
       "49997    I am a Catholic taught in parochial elementary...\n",
       "49998    I'm going to have to disagree with the previou...\n",
       "49999    No one expects the Star Trek movies to be high...\n",
       "Name: review, Length: 50000, dtype: object"
      ]
     },
     "execution_count": 14,
     "metadata": {},
     "output_type": "execute_result"
    }
   ],
   "source": [
    "X"
   ]
  },
  {
   "cell_type": "code",
   "execution_count": 15,
   "id": "a6adb0ac",
   "metadata": {},
   "outputs": [
    {
     "data": {
      "text/plain": [
       "0        1\n",
       "1        1\n",
       "2        1\n",
       "3        0\n",
       "4        1\n",
       "        ..\n",
       "49995    1\n",
       "49996    0\n",
       "49997    0\n",
       "49998    0\n",
       "49999    0\n",
       "Name: sentiment, Length: 50000, dtype: object"
      ]
     },
     "execution_count": 15,
     "metadata": {},
     "output_type": "execute_result"
    }
   ],
   "source": [
    "y"
   ]
  },
  {
   "cell_type": "markdown",
   "id": "f78c6881",
   "metadata": {},
   "source": [
    "# Data Split into Train & Test "
   ]
  },
  {
   "cell_type": "code",
   "execution_count": 16,
   "id": "dedeea89",
   "metadata": {},
   "outputs": [],
   "source": [
    "X_train, X_test, y_train, y_test= train_test_split(X,y,test_size=0.2, random_state=9)"
   ]
  },
  {
   "cell_type": "code",
   "execution_count": 17,
   "id": "f999bafb",
   "metadata": {},
   "outputs": [
    {
     "data": {
      "text/plain": [
       "(40000,)"
      ]
     },
     "execution_count": 17,
     "metadata": {},
     "output_type": "execute_result"
    }
   ],
   "source": [
    "X_train.shape"
   ]
  },
  {
   "cell_type": "code",
   "execution_count": 18,
   "id": "eb49b56f",
   "metadata": {},
   "outputs": [
    {
     "data": {
      "text/plain": [
       "(10000,)"
      ]
     },
     "execution_count": 18,
     "metadata": {},
     "output_type": "execute_result"
    }
   ],
   "source": [
    "X_test.shape"
   ]
  },
  {
   "cell_type": "code",
   "execution_count": 19,
   "id": "2dc66d08",
   "metadata": {},
   "outputs": [
    {
     "data": {
      "text/plain": [
       "(10000,)"
      ]
     },
     "execution_count": 19,
     "metadata": {},
     "output_type": "execute_result"
    }
   ],
   "source": [
    "y_test.shape"
   ]
  },
  {
   "cell_type": "code",
   "execution_count": 20,
   "id": "42988507",
   "metadata": {},
   "outputs": [
    {
     "data": {
      "text/plain": [
       "(40000,)"
      ]
     },
     "execution_count": 20,
     "metadata": {},
     "output_type": "execute_result"
    }
   ],
   "source": [
    "y_train.shape"
   ]
  },
  {
   "cell_type": "markdown",
   "id": "7e94d3ef",
   "metadata": {},
   "source": [
    "# Convert Textual Data into Numerical Vectors"
   ]
  },
  {
   "cell_type": "code",
   "execution_count": 21,
   "id": "3e15f67d",
   "metadata": {},
   "outputs": [],
   "source": [
    "feature_extraction = TfidfVectorizer(min_df= 1 ,stop_words='english', lowercase=True)"
   ]
  },
  {
   "cell_type": "code",
   "execution_count": 22,
   "id": "2d43e9ee",
   "metadata": {},
   "outputs": [],
   "source": [
    "X_train_feature = feature_extraction.fit_transform(X_train)"
   ]
  },
  {
   "cell_type": "code",
   "execution_count": 23,
   "id": "9c5cb14c",
   "metadata": {},
   "outputs": [],
   "source": [
    "X_test_feature= feature_extraction.transform(X_test)"
   ]
  },
  {
   "cell_type": "code",
   "execution_count": 24,
   "id": "2f7a689e",
   "metadata": {
    "scrolled": true
   },
   "outputs": [
    {
     "name": "stdout",
     "output_type": "stream",
     "text": [
      "  (0, 46265)\t0.08394819837518389\n",
      "  (0, 17979)\t0.10471702930388876\n",
      "  (0, 54679)\t0.08826640700521104\n",
      "  (0, 3662)\t0.11833829588051722\n",
      "  (0, 60888)\t0.04744125023045033\n",
      "  (0, 34502)\t0.05921743888268194\n",
      "  (0, 17060)\t0.10620847298427485\n",
      "  (0, 69378)\t0.18982204640932676\n",
      "  (0, 66614)\t0.043338391935325904\n",
      "  (0, 79860)\t0.08870132374620435\n",
      "  (0, 71353)\t0.0542556786697082\n",
      "  (0, 91065)\t0.06760609630123211\n",
      "  (0, 78406)\t0.043550384316472804\n",
      "  (0, 39097)\t0.0825605132425876\n",
      "  (0, 13650)\t0.0605690639367542\n",
      "  (0, 3000)\t0.16284629345716703\n",
      "  (0, 22393)\t0.1685149017236491\n",
      "  (0, 42992)\t0.1751448918571928\n",
      "  (0, 70724)\t0.14686738421194648\n",
      "  (0, 44951)\t0.1333663294810515\n",
      "  (0, 5627)\t0.5386254180687904\n",
      "  (0, 34856)\t0.12286429889090536\n",
      "  (0, 45039)\t0.12521986670024388\n",
      "  (0, 55159)\t0.06612305071895526\n",
      "  (0, 58007)\t0.09113276582540238\n",
      "  :\t:\n",
      "  (39999, 27951)\t0.11128661126556173\n",
      "  (39999, 86972)\t0.10848637578821065\n",
      "  (39999, 31355)\t0.0918371326266443\n",
      "  (39999, 64828)\t0.11229802447920516\n",
      "  (39999, 38120)\t0.11449170307164665\n",
      "  (39999, 18863)\t0.09644844099631779\n",
      "  (39999, 21948)\t0.09855834405837817\n",
      "  (39999, 17540)\t0.1317322313524366\n",
      "  (39999, 42002)\t0.13709815809422501\n",
      "  (39999, 5477)\t0.10734986009146967\n",
      "  (39999, 86383)\t0.31978908220258573\n",
      "  (39999, 73850)\t0.14478454040037805\n",
      "  (39999, 86203)\t0.12299125210912543\n",
      "  (39999, 27198)\t0.11412864677850355\n",
      "  (39999, 73847)\t0.1037503558148753\n",
      "  (39999, 3166)\t0.13309946072442808\n",
      "  (39999, 81054)\t0.18483980445732442\n",
      "  (39999, 14535)\t0.12465960788993538\n",
      "  (39999, 28932)\t0.1527580079606651\n",
      "  (39999, 8316)\t0.14068350980406885\n",
      "  (39999, 39636)\t0.15151559545093204\n",
      "  (39999, 17226)\t0.15550642525084965\n",
      "  (39999, 9993)\t0.1527580079606651\n",
      "  (39999, 61204)\t0.1519210735410058\n",
      "  (39999, 5427)\t0.21441747240343373\n"
     ]
    }
   ],
   "source": [
    "print(X_train_feature)"
   ]
  },
  {
   "cell_type": "markdown",
   "id": "302b56d7",
   "metadata": {},
   "source": [
    "# Change Datatypes of : \"Y\""
   ]
  },
  {
   "cell_type": "code",
   "execution_count": 25,
   "id": "93f414b1",
   "metadata": {},
   "outputs": [],
   "source": [
    "y_train=y_train.astype('int')\n",
    "y_test = y_test.astype('int')"
   ]
  },
  {
   "cell_type": "markdown",
   "id": "c9501ec6",
   "metadata": {},
   "source": [
    "# Model Selections"
   ]
  },
  {
   "cell_type": "markdown",
   "id": "786da4e4",
   "metadata": {},
   "source": [
    "# Creating Objects of Every Models"
   ]
  },
  {
   "cell_type": "code",
   "execution_count": 26,
   "id": "077a3a64",
   "metadata": {},
   "outputs": [],
   "source": [
    "mb = MultinomialNB()\n",
    "lr = LogisticRegression()\n",
    "kc = KNeighborsClassifier(n_neighbors=7)\n",
    "rc = RandomForestClassifier()\n",
    "xg = XGBClassifier()\n",
    "dt = DecisionTreeClassifier()"
   ]
  },
  {
   "cell_type": "code",
   "execution_count": 28,
   "id": "1796e4c1",
   "metadata": {},
   "outputs": [],
   "source": [
    "models = [dt,mb,lr,kc,rc,xg]"
   ]
  },
  {
   "cell_type": "markdown",
   "id": "9e237d1f",
   "metadata": {},
   "source": [
    "# Models Evaluation"
   ]
  },
  {
   "cell_type": "code",
   "execution_count": 29,
   "id": "b290e348",
   "metadata": {},
   "outputs": [
    {
     "name": "stdout",
     "output_type": "stream",
     "text": [
      "The Model is :DecisionTreeClassifier()\n",
      "The Accuracy score of DecisionTreeClassifier() --> 0.7277\n",
      "The Model is :MultinomialNB()\n",
      "The Accuracy score of MultinomialNB() --> 0.862\n",
      "The Model is :LogisticRegression()\n",
      "The Accuracy score of LogisticRegression() --> 0.89\n",
      "The Model is :KNeighborsClassifier(n_neighbors=7)\n",
      "The Accuracy score of KNeighborsClassifier(n_neighbors=7) --> 0.7697\n",
      "The Model is :RandomForestClassifier()\n",
      "The Accuracy score of RandomForestClassifier() --> 0.8529\n",
      "The Model is :XGBClassifier(base_score=None, booster=None, callbacks=None,\n",
      "              colsample_bylevel=None, colsample_bynode=None,\n",
      "              colsample_bytree=None, device=None, early_stopping_rounds=None,\n",
      "              enable_categorical=False, eval_metric=None, feature_types=None,\n",
      "              gamma=None, grow_policy=None, importance_type=None,\n",
      "              interaction_constraints=None, learning_rate=None, max_bin=None,\n",
      "              max_cat_threshold=None, max_cat_to_onehot=None,\n",
      "              max_delta_step=None, max_depth=None, max_leaves=None,\n",
      "              min_child_weight=None, missing=nan, monotone_constraints=None,\n",
      "              multi_strategy=None, n_estimators=None, n_jobs=None,\n",
      "              num_parallel_tree=None, random_state=None, ...)\n",
      "The Accuracy score of XGBClassifier(base_score=None, booster=None, callbacks=None,\n",
      "              colsample_bylevel=None, colsample_bynode=None,\n",
      "              colsample_bytree=None, device=None, early_stopping_rounds=None,\n",
      "              enable_categorical=False, eval_metric=None, feature_types=None,\n",
      "              gamma=None, grow_policy=None, importance_type=None,\n",
      "              interaction_constraints=None, learning_rate=None, max_bin=None,\n",
      "              max_cat_threshold=None, max_cat_to_onehot=None,\n",
      "              max_delta_step=None, max_depth=None, max_leaves=None,\n",
      "              min_child_weight=None, missing=nan, monotone_constraints=None,\n",
      "              multi_strategy=None, n_estimators=None, n_jobs=None,\n",
      "              num_parallel_tree=None, random_state=None, ...) --> 0.8578\n"
     ]
    }
   ],
   "source": [
    "for model in models:\n",
    "    print(f'The Model is :{model}')\n",
    "    model.fit(X_train_feature, y_train)\n",
    "    print(f'The Accuracy score of {model} --> {accuracy_score(y_test, model.predict(X_test_feature))}')"
   ]
  },
  {
   "cell_type": "markdown",
   "id": "13afde78",
   "metadata": {},
   "source": [
    "# New Input Review to Predict Positive & Negative"
   ]
  },
  {
   "cell_type": "markdown",
   "id": "da27fc8e",
   "metadata": {},
   "source": [
    "# Positive Review"
   ]
  },
  {
   "cell_type": "code",
   "execution_count": 30,
   "id": "2b72658e",
   "metadata": {},
   "outputs": [],
   "source": [
    "positive = [\"The movie was absolutely fantastic! The storyline was gripping, the acting was top-notch, and the special effects were stunning. I highly recommend it to anyone who enjoys a great cinematic experience.\"]\n",
    "negative = [\"I was very disappointed with the movie. The plot was predictable, the acting was mediocre, and the special effects were lackluster. I wouldn't recommend it to anyone.\"]"
   ]
  },
  {
   "cell_type": "code",
   "execution_count": 31,
   "id": "db87d265",
   "metadata": {},
   "outputs": [],
   "source": [
    "input_data_feature1 = feature_extraction.transform(positive)"
   ]
  },
  {
   "cell_type": "code",
   "execution_count": 32,
   "id": "c815f989",
   "metadata": {},
   "outputs": [
    {
     "name": "stdout",
     "output_type": "stream",
     "text": [
      "Model is DecisionTreeClassifier() ---> Prediction [1]\n",
      "Model is MultinomialNB() ---> Prediction [1]\n",
      "Model is LogisticRegression() ---> Prediction [1]\n",
      "Model is KNeighborsClassifier(n_neighbors=7) ---> Prediction [1]\n",
      "Model is RandomForestClassifier() ---> Prediction [1]\n",
      "Model is XGBClassifier(base_score=None, booster=None, callbacks=None,\n",
      "              colsample_bylevel=None, colsample_bynode=None,\n",
      "              colsample_bytree=None, device=None, early_stopping_rounds=None,\n",
      "              enable_categorical=False, eval_metric=None, feature_types=None,\n",
      "              gamma=None, grow_policy=None, importance_type=None,\n",
      "              interaction_constraints=None, learning_rate=None, max_bin=None,\n",
      "              max_cat_threshold=None, max_cat_to_onehot=None,\n",
      "              max_delta_step=None, max_depth=None, max_leaves=None,\n",
      "              min_child_weight=None, missing=nan, monotone_constraints=None,\n",
      "              multi_strategy=None, n_estimators=None, n_jobs=None,\n",
      "              num_parallel_tree=None, random_state=None, ...) ---> Prediction [1]\n"
     ]
    }
   ],
   "source": [
    "for model in models:\n",
    "    print(f'Model is {model} ---> Prediction {model.predict(input_data_feature1)}')"
   ]
  },
  {
   "cell_type": "markdown",
   "id": "22610d81",
   "metadata": {},
   "source": [
    "# Negative Review"
   ]
  },
  {
   "cell_type": "code",
   "execution_count": 33,
   "id": "a52c5fa8",
   "metadata": {},
   "outputs": [],
   "source": [
    "input_data_feature2 = feature_extraction.transform(negative)"
   ]
  },
  {
   "cell_type": "code",
   "execution_count": 34,
   "id": "e2ef1a38",
   "metadata": {
    "scrolled": false
   },
   "outputs": [
    {
     "name": "stdout",
     "output_type": "stream",
     "text": [
      "Model is DecisionTreeClassifier() ---> Prediction [0]\n",
      "Model is MultinomialNB() ---> Prediction [0]\n",
      "Model is LogisticRegression() ---> Prediction [0]\n",
      "Model is KNeighborsClassifier(n_neighbors=7) ---> Prediction [0]\n",
      "Model is RandomForestClassifier() ---> Prediction [0]\n",
      "Model is XGBClassifier(base_score=None, booster=None, callbacks=None,\n",
      "              colsample_bylevel=None, colsample_bynode=None,\n",
      "              colsample_bytree=None, device=None, early_stopping_rounds=None,\n",
      "              enable_categorical=False, eval_metric=None, feature_types=None,\n",
      "              gamma=None, grow_policy=None, importance_type=None,\n",
      "              interaction_constraints=None, learning_rate=None, max_bin=None,\n",
      "              max_cat_threshold=None, max_cat_to_onehot=None,\n",
      "              max_delta_step=None, max_depth=None, max_leaves=None,\n",
      "              min_child_weight=None, missing=nan, monotone_constraints=None,\n",
      "              multi_strategy=None, n_estimators=None, n_jobs=None,\n",
      "              num_parallel_tree=None, random_state=None, ...) ---> Prediction [0]\n"
     ]
    }
   ],
   "source": [
    "for model in models:\n",
    "    print(f'Model is {model} ---> Prediction {model.predict(input_data_feature2)}')"
   ]
  },
  {
   "cell_type": "code",
   "execution_count": null,
   "id": "c65764a3",
   "metadata": {},
   "outputs": [],
   "source": []
  }
 ],
 "metadata": {
  "kernelspec": {
   "display_name": "Python 3 (ipykernel)",
   "language": "python",
   "name": "python3"
  },
  "language_info": {
   "codemirror_mode": {
    "name": "ipython",
    "version": 3
   },
   "file_extension": ".py",
   "mimetype": "text/x-python",
   "name": "python",
   "nbconvert_exporter": "python",
   "pygments_lexer": "ipython3",
   "version": "3.11.5"
  }
 },
 "nbformat": 4,
 "nbformat_minor": 5
}
